{
 "cells": [
  {
   "cell_type": "markdown",
   "metadata": {},
   "source": [
    "# **Exercício 01 (IMC)**\n"
   ]
  },
  {
   "cell_type": "code",
   "execution_count": 3,
   "metadata": {},
   "outputs": [
    {
     "name": "stdout",
     "output_type": "stream",
     "text": [
      "----------------------------------------------------------------------\n",
      " CALCULADORA DE IMC\n",
      "----------------------------------------------------------------------\n",
      " Olá.\n",
      " Primeiro digite seu peso (em kg) e depois, sua altura (em metros) :\n",
      "\n",
      " PESO: 60\n",
      " ALTURA: 1.6\n",
      "----------------------------------------------------------------------\n",
      " RESPOSTA \n",
      "\n",
      " O seu IMC é de 23.44\n"
     ]
    }
   ],
   "source": [
    "#Criando o 'design' do programa e perguntando o peso e altura para o usuário\n",
    "\n",
    "print(70*'-' + '\\n CALCULADORA DE IMC')\n",
    "print(70*'-'+'\\n Olá.\\n Primeiro digite seu peso (em kg) e depois, sua altura (em metros) :\\n')\n",
    "\n",
    "#Input do usuário\n",
    "\n",
    "peso = int(input('Digite seu peso (em kg:'))\n",
    "altura = float(input('Digite sua altura (em metros:'))\n",
    "print(f' PESO: {peso}\\n ALTURA: {altura}')\n",
    "\n",
    "\n",
    "#Calculando o IMC\n",
    "\n",
    "imc = peso/(altura**2)\n",
    "\n",
    "#Resposta com o IMC\n",
    "\n",
    "print(70*'-' + '\\n RESPOSTA \\n')\n",
    "print(f' O seu IMC é de {round(imc,2)}')\n",
    "\n"
   ]
  },
  {
   "cell_type": "markdown",
   "metadata": {},
   "source": [
    "# **Exercício 02 (Lista)**\n"
   ]
  },
  {
   "cell_type": "code",
   "execution_count": 21,
   "metadata": {},
   "outputs": [
    {
     "name": "stdout",
     "output_type": "stream",
     "text": [
      "----------------------------------------------------------------------\n",
      " CRIADOR DE LISTA\n",
      "----------------------------------------------------------------------\n",
      "\n",
      " A lista final é: [1, 2, 3, 4, 5]\n"
     ]
    }
   ],
   "source": [
    "print('-'*70 + '\\n CRIADOR DE LISTA')\n",
    "#Criando uma lista vazia\n",
    "\n",
    "lista = []\n",
    "\n",
    "#Loop para a inserir os numeros na lista \n",
    "\n",
    "i = 0\n",
    "while i < 5:\n",
    "    numeros = int(input(f'Insira o {i+1}o número inteiro na lista'))  #Pedindo para o usuário inserir um número\n",
    "    lista.append(numeros) #Inserindo o número na lista\n",
    "    i += 1 #Aumentando o contador\n",
    "    \n",
    "#Mostrando a lista final para o usuário\n",
    "print('-'*70)\n",
    "print(f'\\n A lista final é: {lista}')\n"
   ]
  },
  {
   "cell_type": "markdown",
   "metadata": {},
   "source": [
    "# **Exercício 03 - Lista (Separado por virgula)**\n"
   ]
  },
  {
   "cell_type": "code",
   "execution_count": 4,
   "metadata": {},
   "outputs": [
    {
     "name": "stdout",
     "output_type": "stream",
     "text": [
      "----------------------------------------------------------------------\n",
      " LISTA DE STRINGS\n",
      "----------------------------------------------------------------------\n",
      " A lista final de strings é: ['maria eduarda', 'ana']\n"
     ]
    }
   ],
   "source": [
    "#Criando o 'design' do programa\n",
    "print('-'*70+'\\n LISTA DE STRINGS')\n",
    "\n",
    "#Pedindo input do usuário\n",
    "nomes = str(input('Digite uma lista de nomes separados por vírgula:'))\n",
    "\n",
    "#Separando os nomes e tirando os espaços vazios em list comprehension \n",
    "nome_novo = [nome.strip() for nome in nomes.split(',')]\n",
    "\n",
    "#Exibindo lista para o usuário\n",
    "print('-'*70)\n",
    "print(f' A lista final de strings é: {nome_novo}')"
   ]
  },
  {
   "cell_type": "code",
   "execution_count": null,
   "metadata": {},
   "outputs": [],
   "source": []
  }
 ],
 "metadata": {
  "kernelspec": {
   "display_name": "Python 3",
   "language": "python",
   "name": "python3"
  },
  "language_info": {
   "codemirror_mode": {
    "name": "ipython",
    "version": 3
   },
   "file_extension": ".py",
   "mimetype": "text/x-python",
   "name": "python",
   "nbconvert_exporter": "python",
   "pygments_lexer": "ipython3",
   "version": "3.11.3"
  }
 },
 "nbformat": 4,
 "nbformat_minor": 2
}
